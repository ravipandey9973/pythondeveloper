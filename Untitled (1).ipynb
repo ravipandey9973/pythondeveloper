{
 "cells": [
  {
   "cell_type": "code",
   "execution_count": 1,
   "id": "8ad5b3a7",
   "metadata": {},
   "outputs": [
    {
     "data": {
      "text/plain": [
       "('DLTINS_20210117_01of01.zip', <http.client.HTTPMessage at 0x22bd2716fa0>)"
      ]
     },
     "execution_count": 1,
     "metadata": {},
     "output_type": "execute_result"
    }
   ],
   "source": [
    "# dowload file\n",
    "import urllib.request\n",
    "urllib.request.urlretrieve(\"http://firds.esma.europa.eu/firds/DLTINS_20210117_01of01.zip\",\"DLTINS_20210117_01of01.zip\")"
   ]
  },
  {
   "cell_type": "code",
   "execution_count": 2,
   "id": "2b3227b6",
   "metadata": {},
   "outputs": [
    {
     "name": "stdout",
     "output_type": "stream",
     "text": [
      "File Name                                             Modified             Size\n",
      "DLTINS_20210117_01of01.xml                     2021-01-17 01:17:12    143278061\n",
      "Extraction done!!\n"
     ]
    }
   ],
   "source": [
    "from zipfile import ZipFile\n",
    "\n",
    "filename=\"DLTINS_20210117_01of01.zip\"\n",
    "\n",
    "\n",
    "with ZipFile(filename,\"r\")as zip:\n",
    "\n",
    "\n",
    "    zip.printdir()\n",
    "\n",
    "\n",
    "    zip.extractall()\n",
    "\n",
    "\n",
    "\n",
    "print(\"Extraction done!!\")"
   ]
  },
  {
   "cell_type": "code",
   "execution_count": 30,
   "id": "6de5145b",
   "metadata": {},
   "outputs": [],
   "source": [
    "from xml.etree import ElementTree\n",
    "import csv\n",
    "\n",
    "# PARSE XML\n",
    "xml = ElementTree.parse(\"DLTINS_20210117_01of01.xml \")\n",
    "\n",
    "# CREATE CSV FILE\n",
    "csvfile = open(\"data.csv\",'w',encoding='utf-8')\n",
    "csvfile_writer = csv.writer(csvfile)\n",
    "\n",
    "# ADD THE HEADER TO CSV FILE\n",
    "csvfile_writer.writerow([\"FinInstrmGnlAttrbts.Id\"\n",
    "\"FinInstrmGnlAttrbts.FullNm\",\n",
    "\"FinInstrmGnlAttrbts.ClssfctnTp\",\n",
    "\"FinInstrmGnlAttrbts.CmmdtyDerivInd\",\n",
    "\"FinInstrmGnlAttrbts.NtnlCcy\",\n",
    "\"Issr\"])\n",
    "\n",
    "# FOR EACH EMPLOYEE\n",
    "for employee in xml.findall(\"employee\"):\n",
    "    \n",
    "    if(employee):\n",
    "       \n",
    "       # EXTRACT EMPLOYEE DETAILS  \n",
    "        FinInstrmGnlAttrbts.Id = employee.find(\"FinInstrmGnlAttrbts.Id\")\n",
    "        FinInstrmGnlAttrbts.FullNm = employee.find(\"FinInstrmGnlAttrbts.FullNm\")\n",
    "        FinInstrmGnlAttrbts.ClssfctnTp= employee.find(\"FinInstrmGnlAttrbts.ClssfctnTp\")\n",
    "        FinInstrmGnlAttrbts.CmmdtyDerivInd= employee.find(\"FinInstrmGnlAttrbts.CmmdtyDerivInd\")\n",
    "        FinInstrmGnlAttrbts.NtnlCcy= employee.find(\"FinInstrmGnlAttrbts.NtnlCcy\")\n",
    "        Issr= employee.find(\"Issr\")\n",
    "    csv_line = [FinInstrmGnlAttrbts.Id.text,\n",
    "FinInstrmGnlAttrbts.FullNm.text,\n",
    "FinInstrmGnlAttrbts.ClssfctnTp.text,\n",
    "FinInstrmGnlAttrbts.CmmdtyDerivInd.text,\n",
    "FinInstrmGnlAttrbts.NtnlCcy.text,\n",
    "Issr.text]\n",
    "\n",
    "      # ADD A NEW ROW TO CSV FILE\n",
    "    csvfile_writer.writerow(csv_line)\n",
    "csvfile.close()"
   ]
  },
  {
   "cell_type": "code",
   "execution_count": null,
   "id": "dffc6907",
   "metadata": {},
   "outputs": [],
   "source": [
    "import boto3\n"
   ]
  },
  {
   "cell_type": "code",
   "execution_count": null,
   "id": "cba30ae7",
   "metadata": {},
   "outputs": [],
   "source": [
    "client= boto3.client('s3')"
   ]
  },
  {
   "cell_type": "code",
   "execution_count": null,
   "id": "0ff7503e",
   "metadata": {},
   "outputs": [],
   "source": [
    "pat='s3://ravipandey9973bucket/data.csv'"
   ]
  },
  {
   "cell_type": "code",
   "execution_count": null,
   "id": "73476b48",
   "metadata": {},
   "outputs": [],
   "source": [
    "df=pd.read_csv(path)"
   ]
  },
  {
   "cell_type": "code",
   "execution_count": null,
   "id": "ee9111ac",
   "metadata": {},
   "outputs": [],
   "source": [
    "df.head()"
   ]
  },
  {
   "cell_type": "code",
   "execution_count": null,
   "id": "8a85df31",
   "metadata": {},
   "outputs": [],
   "source": [
    "!pip install s3fs"
   ]
  }
 ],
 "metadata": {
  "kernelspec": {
   "display_name": "Python 3",
   "language": "python",
   "name": "python3"
  },
  "language_info": {
   "codemirror_mode": {
    "name": "ipython",
    "version": 3
   },
   "file_extension": ".py",
   "mimetype": "text/x-python",
   "name": "python",
   "nbconvert_exporter": "python",
   "pygments_lexer": "ipython3",
   "version": "3.8.8"
  }
 },
 "nbformat": 4,
 "nbformat_minor": 5
}
